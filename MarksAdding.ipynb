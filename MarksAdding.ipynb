{
  "nbformat": 4,
  "nbformat_minor": 0,
  "metadata": {
    "colab": {
      "provenance": [],
      "mount_file_id": "1OmR7Wpb26z-HgvOv7vimJQtBjjjyAqSS",
      "authorship_tag": "ABX9TyOHGGZaCv9TKsjRfz7eHh9r",
      "include_colab_link": true
    },
    "kernelspec": {
      "name": "python3",
      "display_name": "Python 3"
    },
    "language_info": {
      "name": "python"
    }
  },
  "cells": [
    {
      "cell_type": "markdown",
      "metadata": {
        "id": "view-in-github",
        "colab_type": "text"
      },
      "source": [
        "<a href=\"https://colab.research.google.com/github/Akashkohli28/MiniProject-04/blob/main/MarksAdding.ipynb\" target=\"_parent\"><img src=\"https://colab.research.google.com/assets/colab-badge.svg\" alt=\"Open In Colab\"/></a>"
      ]
    },
    {
      "cell_type": "code",
      "source": [
        "import pandas as pd\n",
        "\n",
        "# Read the CSV file into a pandas DataFrame\n",
        "df = pd.read_csv('/content/drive/MyDrive/ThaparSummer/MiniProject-1.csv')\n",
        "\n",
        "# Group by roll no and sum the marks\n",
        "df_grouped = df.groupby('Roll Num')['Marks'].sum().reset_index()\n",
        "\n",
        "# Save the result to a new CSV file\n",
        "df_grouped.to_csv('grouped_marks.csv', index=False)"
      ],
      "metadata": {
        "collapsed": true,
        "id": "i3aTBvgvqy1Y"
      },
      "execution_count": null,
      "outputs": []
    },
    {
      "cell_type": "code",
      "source": [],
      "metadata": {
        "id": "70JU6S5Cu7aE"
      },
      "execution_count": null,
      "outputs": []
    }
  ]
}